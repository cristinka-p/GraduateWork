{
 "cells": [
  {
   "cell_type": "code",
   "execution_count": 4,
   "id": "7055bee4-c541-4707-8d04-3fa5d5901b26",
   "metadata": {},
   "outputs": [
    {
     "name": "stdout",
     "output_type": "stream",
     "text": [
      "Requirement already satisfied: pygame in c:\\users\\ponkr\\appdata\\local\\programs\\python\\python312\\lib\\site-packages (2.5.2)\n"
     ]
    }
   ],
   "source": [
    "!pip install pygame"
   ]
  },
  {
   "cell_type": "code",
   "execution_count": 8,
   "id": "d1c95713-9322-48e6-9fd5-80c8dae5676d",
   "metadata": {},
   "outputs": [
    {
     "name": "stdout",
     "output_type": "stream",
     "text": [
      "Playing Note: B5\n",
      "Playing Note: F5\n",
      "Playing Note: D3\n",
      "Playing Note: B5\n",
      "Playing Note: A3\n",
      "Playing Note: F3\n",
      "Playing Note: B5\n",
      "Playing Note: G5\n",
      "Playing Note: G3\n",
      "Playing Note: F4\n"
     ]
    }
   ],
   "source": [
    "import pygame\n",
    "import random\n",
    "import time\n",
    "\n",
    "# Инициализация Pygame\n",
    "pygame.init()\n",
    "\n",
    "# Установка параметров звука\n",
    "pygame.mixer.init()\n",
    "pygame.mixer.set_num_channels(10)\n",
    "\n",
    "# Установка окна Pygame (не обязательно)\n",
    "screen = pygame.display.set_mode((200, 200))\n",
    "\n",
    "# Определение функции для генерации случайной ноты\n",
    "def generate_random_note():\n",
    "    notes = ['C', 'D', 'E', 'F', 'G', 'A', 'B']\n",
    "    octave = random.randint(3, 5)\n",
    "    note = random.choice(notes)\n",
    "    return note + str(octave)\n",
    "\n",
    "# Главная функция, которая создает случайную мелодию и воспроизводит ее\n",
    "def play_random_melody():\n",
    "    melody_length = 10  # Длина мелодии (количество нот)\n",
    "    for _ in range(melody_length):\n",
    "        note = generate_random_note()\n",
    "        print(\"Playing Note:\", note)\n",
    "        pygame.mixer.Sound(f'notes/{note}.wav').play()  # Предполагается, что у вас есть звуковые файлы для каждой ноты\n",
    "\n",
    "        # Задержка между нотами\n",
    "        time.sleep(0.5)\n",
    "\n",
    "# Запуск функции для воспроизведения случайной мелодии\n",
    "play_random_melody()\n"
   ]
  },
  {
   "cell_type": "code",
   "execution_count": 1,
   "id": "70ca9d11-e2aa-44dd-aaf0-bea09e022296",
   "metadata": {},
   "outputs": [
    {
     "name": "stdout",
     "output_type": "stream",
     "text": [
      "Random Melody:\n",
      "A A# F# C F# A G# B F C# G D# E A# E F F# G D# A C C# C G# E D# E C C# G G# A A# C# C C# E A# B G G# D D# B A# B C G# D A# B D# F# G D# A G# F# C B D C# B D# C# G G# E A# A A# B A A# D D# C# F F# A G# A C G# C A# E D# C# F G# E A# B C C# D A# E D# F# D F# A A# F# C C# A A# E C C# D F# G A# B C G# A D# D F E D D# E F A A# C# A D# E F C# D G# E G# A C B F G# G A# A C B G G# E D# B F G# A D# B F B D C# E A# F# G C# G D# E A# B D C# E A# F# F C# A G# A C F# C C# A A# B\n"
     ]
    }
   ],
   "source": [
    "import random\n",
    "\n",
    "# Определение ступеней мажорного лада в полутоновых интервалах\n",
    "major_scale_intervals = [0, 2, 4, 5, 7, 9, 11]\n",
    "\n",
    "# Функция для генерации случайной мелодии, ориентируясь на музыкальную теорию\n",
    "def generate_random_melody():\n",
    "    melody = []\n",
    "    # Генерируем случайные аккорды (последовательность ступеней мажорного лада)\n",
    "    chords = [random.sample(major_scale_intervals, 3) for _ in range(4)]  # Выбираем 4 случайных аккорда\n",
    "    for chord in chords:\n",
    "        # Добавляем ноты, соответствующие аккорду, в мелодию\n",
    "        for _ in range(4):  # Добавляем каждую ноту аккорда 4 раза\n",
    "            melody.extend([note + random.choice(chord) for note in range(12)])\n",
    "    return melody\n",
    "\n",
    "# Функция для преобразования числовых значений нот в их названия\n",
    "def convert_to_notes(melody):\n",
    "    note_names = ['C', 'C#', 'D', 'D#', 'E', 'F', 'F#', 'G', 'G#', 'A', 'A#', 'B']\n",
    "    return [note_names[note % 12] for note in melody]\n",
    "\n",
    "# Генерация случайной мелодии\n",
    "random_melody = generate_random_melody()\n",
    "# Преобразование числовых значений нот в их названия\n",
    "melody_notes = convert_to_notes(random_melody)\n",
    "\n",
    "# Вывод случайной мелодии\n",
    "print(\"Random Melody:\")\n",
    "print(' '.join(melody_notes))\n"
   ]
  },
  {
   "cell_type": "code",
   "execution_count": null,
   "id": "cc52aef8-0c4e-49a2-95f2-b445f0756439",
   "metadata": {},
   "outputs": [],
   "source": []
  }
 ],
 "metadata": {
  "kernelspec": {
   "display_name": "Python 3 (ipykernel)",
   "language": "python",
   "name": "python3"
  },
  "language_info": {
   "codemirror_mode": {
    "name": "ipython",
    "version": 3
   },
   "file_extension": ".py",
   "mimetype": "text/x-python",
   "name": "python",
   "nbconvert_exporter": "python",
   "pygments_lexer": "ipython3",
   "version": "3.12.2"
  }
 },
 "nbformat": 4,
 "nbformat_minor": 5
}
